{
  "nbformat": 4,
  "nbformat_minor": 0,
  "metadata": {
    "colab": {
      "name": "25 feb three question.ipynb",
      "provenance": []
    },
    "kernelspec": {
      "name": "python3",
      "display_name": "Python 3"
    },
    "language_info": {
      "name": "python"
    }
  },
  "cells": [
    {
      "cell_type": "markdown",
      "source": [
        "**Write a program to print every integer b/w 1 to n divisible by m also check wheather the divisible is even or odd**"
      ],
      "metadata": {
        "id": "e3EBQDm4UD3M"
      }
    },
    {
      "cell_type": "code",
      "execution_count": null,
      "metadata": {
        "colab": {
          "base_uri": "https://localhost:8080/"
        },
        "id": "LKXzksPI3bvh",
        "outputId": "47db1ae2-8ab4-4e25-94da-6b6514cbb73c"
      },
      "outputs": [
        {
          "output_type": "stream",
          "name": "stdout",
          "text": [
            "enter n : 10\n",
            "enter m : 5\n",
            "5 is divisible by 5 and is odd no.\n",
            "10 is divisible by 5 and is even no.\n"
          ]
        }
      ],
      "source": [
        "n=int(input(\"enter n : \"))\n",
        "m=int(input(\"enter m : \"))\n",
        "\n",
        "for i in range(1,n+1):\n",
        "  if(i%m==0):\n",
        "    if(i%2==0):\n",
        "      print(\"{0} is divisible by {1} and is even no.\".format(i,m))\n",
        "    else:\n",
        "      print(\"{0} is divisible by {1} and is odd no.\".format(i,m))"
      ]
    },
    {
      "cell_type": "markdown",
      "source": [
        "**Wap to find largest no. of list entered through keyboard**"
      ],
      "metadata": {
        "id": "nDICGGpUU5Nn"
      }
    },
    {
      "cell_type": "code",
      "source": [
        "l=[int(x) for x in input().split()]\n",
        "print(max(l))\n"
      ],
      "metadata": {
        "colab": {
          "base_uri": "https://localhost:8080/"
        },
        "id": "QTZ_1Tvq4z4t",
        "outputId": "d0e17dcd-e1ef-4cc7-d22d-dc8120bf2ea7"
      },
      "execution_count": null,
      "outputs": [
        {
          "output_type": "stream",
          "name": "stdout",
          "text": [
            "111 82\n",
            "111\n"
          ]
        }
      ]
    },
    {
      "cell_type": "markdown",
      "source": [
        "**WAP to to take a no. n and returns a randomly generated exacly n digit no.**"
      ],
      "metadata": {
        "id": "z2q69JtOVSVo"
      }
    },
    {
      "cell_type": "code",
      "source": [
        "import random\n",
        "n=int(input())\n",
        "sv=0\n",
        "lv=9\n",
        "for i in range(n):\n",
        "  if i==0:\n",
        "    sv=0\n",
        "    lv=9\n",
        "  else:\n",
        "    lv=(lv*10)+9\n",
        "    if(i==1):\n",
        "      sv=10\n",
        "    else:\n",
        "      sv=sv*10\n",
        "\n",
        "print(random.randint(sv, lv))\n"
      ],
      "metadata": {
        "colab": {
          "base_uri": "https://localhost:8080/"
        },
        "id": "lyTeBE0W5yHM",
        "outputId": "71553367-2b7c-471f-fbf3-e14e12e78230"
      },
      "execution_count": null,
      "outputs": [
        {
          "output_type": "stream",
          "name": "stdout",
          "text": [
            "4\n",
            "8933\n"
          ]
        }
      ]
    }
  ]
}
