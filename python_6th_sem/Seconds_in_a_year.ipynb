{
  "nbformat": 4,
  "nbformat_minor": 0,
  "metadata": {
    "colab": {
      "name": "Seconds in a year.ipynb",
      "provenance": []
    },
    "kernelspec": {
      "name": "python3",
      "display_name": "Python 3"
    },
    "language_info": {
      "name": "python"
    }
  },
  "cells": [
    {
      "cell_type": "markdown",
      "source": [
        "**Seconds in a year**"
      ],
      "metadata": {
        "id": "H3zbPKhQcuBY"
      }
    },
    {
      "cell_type": "code",
      "execution_count": 3,
      "metadata": {
        "colab": {
          "base_uri": "https://localhost:8080/"
        },
        "id": "LhKbqpuIch__",
        "outputId": "f2cbe533-63b1-4a49-d5d8-84ccd41c9552"
      },
      "outputs": [
        {
          "output_type": "stream",
          "name": "stdout",
          "text": [
            "there are 31536000 second in a normal year\n",
            "there are 31622400 second in a leap year\n"
          ]
        }
      ],
      "source": [
        "print(f\"there are {365*24*60*60} second in a normal year\")\n",
        "print(f\"there are {366*24*60*60} second in a leap year\")"
      ]
    }
  ]
}