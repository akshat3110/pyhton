{
  "nbformat": 4,
  "nbformat_minor": 0,
  "metadata": {
    "colab": {
      "name": "year_and_date.ipynb",
      "provenance": []
    },
    "kernelspec": {
      "name": "python3",
      "display_name": "Python 3"
    },
    "language_info": {
      "name": "python"
    }
  },
  "cells": [
    {
      "cell_type": "code",
      "execution_count": 3,
      "metadata": {
        "colab": {
          "base_uri": "https://localhost:8080/"
        },
        "id": "4PIgYkj-fJkj",
        "outputId": "d69c9fae-46a8-484f-aa89-2ac43ca32fe5"
      },
      "outputs": [
        {
          "output_type": "stream",
          "name": "stdout",
          "text": [
            "enter date in mm:dd:yyyy 02:08:2001\n",
            "feb 8 2001\n"
          ]
        }
      ],
      "source": [
        "date=input(\"enter date in mm:dd:yyyy \")\n",
        "\n",
        "m=int(date[0:2])\n",
        "d=int(date[3:5])\n",
        "y=int(date[6:10])\n",
        "\n",
        "if(m==1):\n",
        "  print(\"jan\",d,y)\n",
        "elif(m==2):\n",
        "  print(\"feb\",d,y)\n",
        "elif(m==3):\n",
        "  print(\"march\",d,y)\n",
        "elif(m==4):\n",
        "  print(\"April\",d,y)\n",
        "elif(m==5):\n",
        "  print(\"may\",d,y)\n",
        "elif(m==6):\n",
        "  print(\"june\",d,y)\n",
        "elif(m==7):\n",
        "  print(\"july\",d,y)\n",
        "elif(m==8):\n",
        "  print(\"August\",d,y)\n",
        "elif(m==9):\n",
        "  print(\"sept\",d,y)\n",
        "elif(m==10):\n",
        "  print(\"Oct\",d,y)\n",
        "elif(m==11):\n",
        "  print(\"Nov\",d,y)\n",
        "else:\n",
        "  print(\"Dec\",d,y)"
      ]
    }
  ]
}